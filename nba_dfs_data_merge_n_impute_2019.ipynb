{
 "cells": [
  {
   "cell_type": "code",
   "execution_count": 1,
   "metadata": {
    "ExecuteTime": {
     "end_time": "2019-08-21T19:53:11.869741Z",
     "start_time": "2019-08-21T19:53:11.284739Z"
    }
   },
   "outputs": [],
   "source": [
    "import numpy as np\n",
    "from datetime import datetime\n",
    "from collections import Counter\n",
    "from unidecode import unidecode\n",
    "from selenium import webdriver\n",
    "\n",
    "from nba_dfs_data_scraper import *\n",
    "\n",
    "import warnings\n",
    "warnings.filterwarnings('ignore')"
   ]
  },
  {
   "cell_type": "markdown",
   "metadata": {},
   "source": [
    "## Stage 1: Scrape the data"
   ]
  },
  {
   "cell_type": "code",
   "execution_count": 2,
   "metadata": {
    "ExecuteTime": {
     "end_time": "2019-08-20T00:58:09.775195Z",
     "start_time": "2019-08-20T00:43:06.409811Z"
    }
   },
   "outputs": [
    {
     "name": "stdout",
     "output_type": "stream",
     "text": [
      "2019\n",
      "\n",
      "500 Done\n",
      "1000 Done\n",
      "Box scores scraped.\n",
      "Fanduel data scraped.\n",
      "All the data are scraped.\n",
      "\n",
      "All data are saved.\n",
      "\n"
     ]
    }
   ],
   "source": [
    "year = 2019\n",
    "scrape_nba_data(year)"
   ]
  },
  {
   "cell_type": "code",
   "execution_count": 3,
   "metadata": {
    "ExecuteTime": {
     "end_time": "2019-08-21T19:53:15.624060Z",
     "start_time": "2019-08-21T19:53:15.281206Z"
    }
   },
   "outputs": [],
   "source": [
    "# Read the data\n",
    "options = ['schedule', 'player', 'team', 'dnp', 'fanduel']\n",
    "data_dict = {option: pd.read_csv(f'data/{option}_{year}.csv') \n",
    "             for option in options}"
   ]
  },
  {
   "cell_type": "code",
   "execution_count": 4,
   "metadata": {
    "ExecuteTime": {
     "end_time": "2019-08-21T19:53:17.888675Z",
     "start_time": "2019-08-21T19:53:17.884428Z"
    }
   },
   "outputs": [
    {
     "name": "stdout",
     "output_type": "stream",
     "text": [
      "schedule: (1230, 16)\n",
      "player: (26101, 41)\n",
      "team: (2460, 38)\n",
      "dnp: (14309, 5)\n",
      "fanduel: (39906, 8)\n"
     ]
    }
   ],
   "source": [
    "# Print the shapes of all datasets\n",
    "for option in options:\n",
    "    print(f'{option}: {data_dict[option].shape}')"
   ]
  },
  {
   "cell_type": "markdown",
   "metadata": {},
   "source": [
    "## Stage 2: Merge the data"
   ]
  },
  {
   "cell_type": "markdown",
   "metadata": {},
   "source": [
    "Following code blocks aim to add information regarding Fanduel into the data scraped from basketball-reference.com."
   ]
  },
  {
   "cell_type": "code",
   "execution_count": 5,
   "metadata": {
    "ExecuteTime": {
     "end_time": "2019-08-21T19:53:19.307693Z",
     "start_time": "2019-08-21T19:53:19.278036Z"
    }
   },
   "outputs": [],
   "source": [
    "# Read the data\n",
    "player_df = data_dict['player'].copy()\n",
    "fanduel_df = data_dict['fanduel'].copy()"
   ]
  },
  {
   "cell_type": "markdown",
   "metadata": {},
   "source": [
    "### Regarding func() 'selenium_name_adjust'"
   ]
  },
  {
   "cell_type": "markdown",
   "metadata": {},
   "source": [
    "The function is used to solve two problems.  \n",
    "    \n",
    "1) Some players' names scraped from Basketball-Reference are not perfect. For example, in some box score pages, 'Alex Abrines' can be '�lex Abrines'.  \n",
    "    \n",
    "2) The players' names in Fanduel dataset and Basketball-Reference dataset are not perfectly matched. For example, Basketball-Reference uses 'Timothe Luwawu-Cabarrot', but Rotoguru (Fanduel Data source) uses 'Timothe Luwawu'.  \n",
    "    \n",
    "So, here's what this function is trying to achieve step-by-step:    \n",
    "    \n",
    "1) Get the weird name (either names with messed-up unicode or names from Fanduel dataset).  \n",
    "    \n",
    "2) Use Selenium to search the name plus 'basketball reference' on Google.  \n",
    "    \n",
    "3) Get the title of the player bio page at basketball-reference.com. This ensures the name aligns with Basketball-Refernce."
   ]
  },
  {
   "cell_type": "code",
   "execution_count": 6,
   "metadata": {
    "ExecuteTime": {
     "end_time": "2019-08-21T19:53:20.476535Z",
     "start_time": "2019-08-21T19:53:20.470153Z"
    }
   },
   "outputs": [],
   "source": [
    "def selenium_name_adjust(name):\n",
    "    \"\"\"\n",
    "    Get the name adopted by Basketball-Reference.\n",
    "    \"\"\"\n",
    "    name = name.replace('?', '')\n",
    "    driver = webdriver.Chrome('/usr/local/bin/chromedriver')\n",
    "    driver.get('http://www.google.com')\n",
    "    \n",
    "    # Search \n",
    "    search_box = driver.find_element_by_name('q')\n",
    "    search_box.send_keys(f'{name} basketball reference')\n",
    "    search_box.submit()\n",
    "    \n",
    "    results = driver.find_elements_by_xpath('//div[@class=\"r\"]/a/h3')  \n",
    "    desired = 'Not Found'\n",
    "    target = ' Stats | Basketball-Reference.com'\n",
    "    for result in results:\n",
    "        if target in result.text:\n",
    "            if 'Roster' not in result.text:\n",
    "                desired = result.text\n",
    "                break\n",
    "    driver.quit() # close browser\n",
    "    \n",
    "    return desired.replace(target, '').strip()"
   ]
  },
  {
   "cell_type": "code",
   "execution_count": 7,
   "metadata": {
    "ExecuteTime": {
     "end_time": "2019-08-21T19:53:21.015210Z",
     "start_time": "2019-08-21T19:53:21.002274Z"
    }
   },
   "outputs": [
    {
     "data": {
      "text/plain": [
       "'Cristiano Fel?cio'"
      ]
     },
     "execution_count": 7,
     "metadata": {},
     "output_type": "execute_result"
    }
   ],
   "source": [
    "def transform_name(n):\n",
    "    \"\"\"\n",
    "    Use ? to subsititute all the messed-up characters in a name.\n",
    "    \"\"\"\n",
    "    n_list = list(n)\n",
    "    q = []\n",
    "    for l in n_list:\n",
    "        if not l.isalnum() and l not in [\" \", \"-\", \"'\", '.']:\n",
    "            q.append(l)\n",
    "    for l in q:\n",
    "        n = n.replace(l, '?')\n",
    "    return unidecode(n)\n",
    "\n",
    "# Example\n",
    "transform_name('Cristiano Fel�cio')"
   ]
  },
  {
   "cell_type": "markdown",
   "metadata": {},
   "source": [
    "### Transform name in Basketball-Reference dataset"
   ]
  },
  {
   "cell_type": "code",
   "execution_count": 8,
   "metadata": {
    "ExecuteTime": {
     "end_time": "2019-08-21T19:53:29.639661Z",
     "start_time": "2019-08-21T19:53:29.550800Z"
    }
   },
   "outputs": [],
   "source": [
    "# Transform name\n",
    "player_df['Player'] = player_df.Player.apply(transform_name)"
   ]
  },
  {
   "cell_type": "code",
   "execution_count": 9,
   "metadata": {
    "ExecuteTime": {
     "end_time": "2019-08-21T19:54:11.772962Z",
     "start_time": "2019-08-21T19:53:30.396055Z"
    }
   },
   "outputs": [
    {
     "data": {
      "text/plain": [
       "{'Dennis Schr?der': 'Dennis Schroder',\n",
       " 'Nen? Hil?rio': 'Nene Hilario',\n",
       " 'Cristiano Fel?cio': 'Cristiano Felicio',\n",
       " 'Willy Hernang?mez': 'Willy Hernangomez',\n",
       " 'Jos? Calder?n': 'Jose Calderon',\n",
       " '?lie Okobo': 'Elie Okobo',\n",
       " '?lex Abrines': 'Alex Abrines',\n",
       " 'Timoth? Luwawu-Cabarrot': 'Timothe Luwawu-Cabarrot'}"
      ]
     },
     "execution_count": 9,
     "metadata": {},
     "output_type": "execute_result"
    }
   ],
   "source": [
    "# Get questionable names\n",
    "ques_names = [name for name in list(set(player_df.Player.values)) \n",
    "              if '?' in name]\n",
    "# Get the right names for all the questionable names\n",
    "ques_name_dict = {n: unidecode(selenium_name_adjust(n)) \n",
    "                  for n in ques_names}\n",
    "ques_name_dict"
   ]
  },
  {
   "cell_type": "code",
   "execution_count": 10,
   "metadata": {
    "ExecuteTime": {
     "end_time": "2019-08-21T19:54:41.264887Z",
     "start_time": "2019-08-21T19:54:41.244420Z"
    }
   },
   "outputs": [
    {
     "data": {
      "text/plain": [
       "[]"
      ]
     },
     "execution_count": 10,
     "metadata": {},
     "output_type": "execute_result"
    }
   ],
   "source": [
    "# Correct the questionable names\n",
    "player_df['Player'] = player_df.Player.apply(lambda x: ques_name_dict[x]\n",
    "                                             if x in ques_name_dict.keys()\n",
    "                                             else x)\n",
    "# Check\n",
    "[name for name in list(set(player_df.Player.values)) if '?' in name]"
   ]
  },
  {
   "cell_type": "markdown",
   "metadata": {},
   "source": [
    "### Transform name in Fanduel dataset"
   ]
  },
  {
   "cell_type": "code",
   "execution_count": 11,
   "metadata": {
    "ExecuteTime": {
     "end_time": "2019-08-21T19:57:25.192358Z",
     "start_time": "2019-08-21T19:55:02.583398Z"
    }
   },
   "outputs": [
    {
     "data": {
      "text/plain": [
       "{'Bembry, DeAndre': \"Bembry, DeAndre'\",\n",
       " 'Poeltl, Jakob': 'Poltl, Jakob',\n",
       " 'Williams, Louis': 'Williams, Lou',\n",
       " 'McCollum, C.J.': 'McCollum, CJ',\n",
       " 'Matthews, Wes': 'Matthews, Wesley',\n",
       " 'Iwundu, Wes': 'Iwundu, Wesley',\n",
       " 'Hernangomez, Guillermo': 'Hernangomez, Willy',\n",
       " 'Leaf, TJ': 'Leaf, T.J.',\n",
       " 'Smith, Ishmael': 'Smith, Ish',\n",
       " 'Prince, Taurean': 'Waller-Prince, Taurean',\n",
       " 'Luwawu, Timothe': 'Luwawu-Cabarrot, Timothe',\n",
       " 'Barea, Jose': 'Barea, J.J.',\n",
       " 'Mitrou-Long, Nazareth': 'Mitrou-Long, Naz',\n",
       " 'Lemon Jr., Walter': 'Lemon, Walt'}"
      ]
     },
     "execution_count": 11,
     "metadata": {},
     "output_type": "execute_result"
    }
   ],
   "source": [
    "def fix_unmatched(player_df, fanduel_df):\n",
    "    \"\"\"\n",
    "    1. Run naive merege to find rows that had merge failed.\n",
    "    2. Find players who had multiple games un-merged.\n",
    "    3. Build a dictionary using selenium_name_adjust \n",
    "    to get the names that align with the standards of \n",
    "    Basketball-Reference\n",
    "    \"\"\"\n",
    "    # Naive merge\n",
    "    player_df['ln'] = player_df.Player.apply(lambda x: x.split(' ')[1]\n",
    "                                             if x != 'Luc Mbah a Moute'\n",
    "                                             else 'Mbah a Moute')\n",
    "    player_df['fn'] = player_df.Player.apply(lambda x: x.split(' ')[0])\n",
    "    fanduel_df['fn'] = fanduel_df.Player.apply(lambda x: x.split(', ')[1])\n",
    "    fanduel_df['ln'] = fanduel_df.Player.apply(lambda x: x.split(', ')[0]\n",
    "                                                          .replace(' Jr.', '')\n",
    "                                                          .replace(' III', ''))\n",
    "    player_lf = player_df[['Date', 'fn', 'ln', 'Player']]\n",
    "    fanduel_lf = fanduel_df[['Date', 'fn', 'ln', 'Player']]\n",
    "    naive_match = player_lf.merge(fanduel_lf, \n",
    "                                  how='left', \n",
    "                                  on=['Date', 'fn', 'ln'])\n",
    "    \n",
    "    # Find players who had multiple games un-merged (> 5 games)\n",
    "    unmatch_dict = Counter(naive_match[naive_match.Player_y.isna()]\n",
    "                           .Player_x.values).most_common()\n",
    "    desired = [item[0] for item in unmatch_dict if item[1] > 5]\n",
    "    \n",
    "    # Build dictionary\n",
    "    fd_name_dict = {}\n",
    "    for name in desired:\n",
    "        fn, ln = name.split(' ')\n",
    "        fd_name = fanduel_df[(fanduel_df.fn == fn) |\n",
    "                             (fanduel_df.ln == ln)].Player.values\n",
    "        fd_name_list = list(set(fd_name))\n",
    "        for n in fd_name_list:\n",
    "            new_n = unidecode(selenium_name_adjust(n))\n",
    "            # Edge case\n",
    "            if new_n == \"Walter Lemon Jr. G-League\": \n",
    "                new_n = 'Walt Lemon'\n",
    "            if new_n == name:\n",
    "                bb_name_list = name.split(' ')\n",
    "                bb_name = bb_name_list[1] + ', ' + bb_name_list[0]\n",
    "                fd_name_dict[n] = bb_name\n",
    "                break\n",
    "    return fd_name_dict\n",
    "\n",
    "fd_name_dict = fix_unmatched(player_df, fanduel_df)\n",
    "fd_name_dict"
   ]
  },
  {
   "cell_type": "code",
   "execution_count": 12,
   "metadata": {
    "ExecuteTime": {
     "end_time": "2019-08-21T20:02:19.712512Z",
     "start_time": "2019-08-21T20:02:19.685530Z"
    }
   },
   "outputs": [],
   "source": [
    "# Use the dictionary to transform players' names\n",
    "fanduel_df['Player'] = fanduel_df.Player.apply(lambda x: fd_name_dict[x]\n",
    "                                               if x in fd_name_dict.keys()\n",
    "                                               else x)"
   ]
  },
  {
   "cell_type": "markdown",
   "metadata": {},
   "source": [
    "### Merge"
   ]
  },
  {
   "cell_type": "code",
   "execution_count": 13,
   "metadata": {
    "ExecuteTime": {
     "end_time": "2019-08-21T20:02:25.782619Z",
     "start_time": "2019-08-21T20:02:25.734509Z"
    }
   },
   "outputs": [],
   "source": [
    "# Create last name and first name column for Basketball-Reference data\n",
    "player_df['ln'] = player_df.Player.apply(lambda x: x.split(' ')[1]\n",
    "                                         if x != 'Luc Mbah a Moute'\n",
    "                                         else 'Mbah a Moute')\n",
    "player_df['fn'] = player_df.Player.apply(lambda x: x.split(' ')[0])"
   ]
  },
  {
   "cell_type": "code",
   "execution_count": 14,
   "metadata": {
    "ExecuteTime": {
     "end_time": "2019-08-21T20:02:27.579333Z",
     "start_time": "2019-08-21T20:02:27.516910Z"
    }
   },
   "outputs": [],
   "source": [
    "# Create last name and first name column for Fanduel data\n",
    "fanduel_df['fn'] = fanduel_df.Player.apply(lambda x: x.split(', ')[1])\n",
    "fanduel_df['ln'] = fanduel_df.Player.apply(lambda x: x.split(', ')[0]\n",
    "                                                      .replace(' Jr.', '')\n",
    "                                                      .replace(' III', ''))"
   ]
  },
  {
   "cell_type": "code",
   "execution_count": 15,
   "metadata": {
    "ExecuteTime": {
     "end_time": "2019-08-21T20:02:31.167504Z",
     "start_time": "2019-08-21T20:02:31.060661Z"
    }
   },
   "outputs": [],
   "source": [
    "# Merge\n",
    "player_merge = player_df.merge(fanduel_df.drop('GS', axis=1),\n",
    "                               how='left',\n",
    "                               on=['Date', 'fn', 'ln',\n",
    "                                   'Team', 'Opponent'])\\\n",
    "                        .drop(['fn', 'ln', 'Player_y'], axis=1)\\\n",
    "                        .rename(columns={'Player_x':'Player'})"
   ]
  },
  {
   "cell_type": "code",
   "execution_count": 16,
   "metadata": {
    "ExecuteTime": {
     "end_time": "2019-08-21T20:02:32.846838Z",
     "start_time": "2019-08-21T20:02:32.839855Z"
    }
   },
   "outputs": [
    {
     "name": "stdout",
     "output_type": "stream",
     "text": [
      "unmatched: 126\n"
     ]
    }
   ],
   "source": [
    "unmatched_df = player_merge[player_merge.Pos.isna()]\n",
    "# Check # of rows that failed to merge\n",
    "print(f'unmatched: {unmatched_df.shape[0]}')\n",
    "# Check if there are players have multiple games that had merge failed\n",
    "unmatched = Counter(unmatched_df.Player.values).most_common()\n",
    "for record in unmatched:\n",
    "    if record[1] > 5:\n",
    "        print(record)"
   ]
  },
  {
   "cell_type": "code",
   "execution_count": 17,
   "metadata": {
    "ExecuteTime": {
     "end_time": "2019-08-21T20:02:55.068110Z",
     "start_time": "2019-08-21T20:02:55.058914Z"
    }
   },
   "outputs": [],
   "source": [
    "# Adjust the order of columns in the dataset\n",
    "player_merge = col_order_adjust(player_merge,\n",
    "                                ['Player', 'Game_No', 'Date', 'Pos'])"
   ]
  },
  {
   "cell_type": "markdown",
   "metadata": {},
   "source": [
    "## Stage 3: Impute missing records"
   ]
  },
  {
   "cell_type": "code",
   "execution_count": 18,
   "metadata": {
    "ExecuteTime": {
     "end_time": "2019-08-21T20:03:33.051380Z",
     "start_time": "2019-08-21T20:03:32.766710Z"
    }
   },
   "outputs": [],
   "source": [
    "def str2datetime(x):\n",
    "    # Handy function to convert str to datetime\n",
    "    return datetime.strptime(x, '%Y-%m-%d')\n",
    "\n",
    "player_merge['Date'] = player_merge['Date'].apply(str2datetime)\n",
    "\n",
    "# player_merge[player_merge['Date'] > str2datetime('2019-04-09')]"
   ]
  },
  {
   "cell_type": "code",
   "execution_count": 19,
   "metadata": {
    "ExecuteTime": {
     "end_time": "2019-08-21T20:03:41.089434Z",
     "start_time": "2019-08-21T20:03:41.084583Z"
    }
   },
   "outputs": [
    {
     "name": "stdout",
     "output_type": "stream",
     "text": [
      "Number of players: 530\n"
     ]
    }
   ],
   "source": [
    "players = list(set(player_merge.Player.values))\n",
    "print(f'Number of players: {len(players)}')"
   ]
  },
  {
   "cell_type": "markdown",
   "metadata": {},
   "source": [
    "### Impute Position"
   ]
  },
  {
   "cell_type": "code",
   "execution_count": 20,
   "metadata": {
    "ExecuteTime": {
     "end_time": "2019-08-21T20:08:29.633947Z",
     "start_time": "2019-08-21T20:08:28.059765Z"
    }
   },
   "outputs": [],
   "source": [
    "def build_pos_dict_for_nan(df):\n",
    "    \"\"\"\n",
    "    This function aims to build a dictionary for the purpose of\n",
    "    imputing Fanduel position information in the non-merged data.\n",
    "    - In case of a player has multiple positions, find the position\n",
    "      information before and after the 'nan' game to determine the \n",
    "      right one.\n",
    "    \"\"\"\n",
    "    nan_player_dict = {}\n",
    "    for player in players:\n",
    "        p_df = df[['Player', 'Pos']]\n",
    "        p_df = p_df[p_df.Player == player]\n",
    "        if len(list(set(p_df.Pos.values))) == 2:\n",
    "            p_df = p_df.drop_duplicates()\n",
    "            if len(p_df) != len(p_df[~p_df.Pos.isna()]):\n",
    "                true_pos = p_df[~p_df.Pos.isna()].Pos.values[0]\n",
    "                nan_player_dict[player] = true_pos\n",
    "        if len(list(set(p_df.Pos.values))) == 3:\n",
    "            p_df = p_df.fillna(1)\n",
    "            for i in range(1, len(p_df.Pos.values) - 1):\n",
    "                if p_df.Pos.values[i] == 1:\n",
    "                    if p_df.Pos.values[i-1] == p_df.Pos.values[i+1]:\n",
    "                        nan_player_dict[player] = p_df.Pos.values[i-1]\n",
    "    return nan_player_dict\n",
    "\n",
    "nan_player_dict = build_pos_dict_for_nan(player_merge)"
   ]
  },
  {
   "cell_type": "code",
   "execution_count": 21,
   "metadata": {
    "ExecuteTime": {
     "end_time": "2019-08-21T20:09:56.782868Z",
     "start_time": "2019-08-21T20:09:56.678410Z"
    }
   },
   "outputs": [
    {
     "name": "stdout",
     "output_type": "stream",
     "text": [
      "(26101, 44)\n"
     ]
    }
   ],
   "source": [
    "def impute_position(df, nan_player_dict):\n",
    "    \"\"\"\n",
    "    Impute the right position information.\n",
    "    \"\"\"\n",
    "    non_nan_df = df[~df.Pos.isna()]\n",
    "    nan_df = df[df.Pos.isna()]\n",
    "    nan_df['Pos'] = nan_df['Player'].apply(lambda x: nan_player_dict[x]\n",
    "                                           if x in nan_player_dict.keys()\n",
    "                                           else 0)\n",
    "    return pd.concat([non_nan_df, nan_df]).sort_index()\n",
    "\n",
    "# Impute position\n",
    "player_merge = impute_position(player_merge, nan_player_dict)\n",
    "print(player_merge.shape)"
   ]
  },
  {
   "cell_type": "code",
   "execution_count": 22,
   "metadata": {
    "ExecuteTime": {
     "end_time": "2019-08-21T20:10:29.349546Z",
     "start_time": "2019-08-21T20:10:29.309324Z"
    }
   },
   "outputs": [
    {
     "data": {
      "text/html": [
       "<div>\n",
       "<style scoped>\n",
       "    .dataframe tbody tr th:only-of-type {\n",
       "        vertical-align: middle;\n",
       "    }\n",
       "\n",
       "    .dataframe tbody tr th {\n",
       "        vertical-align: top;\n",
       "    }\n",
       "\n",
       "    .dataframe thead th {\n",
       "        text-align: right;\n",
       "    }\n",
       "</style>\n",
       "<table border=\"1\" class=\"dataframe\">\n",
       "  <thead>\n",
       "    <tr style=\"text-align: right;\">\n",
       "      <th></th>\n",
       "      <th>Player</th>\n",
       "      <th>Game_No</th>\n",
       "      <th>Date</th>\n",
       "      <th>Pos</th>\n",
       "      <th>is_Home</th>\n",
       "      <th>Team</th>\n",
       "      <th>Opponent</th>\n",
       "      <th>GS</th>\n",
       "      <th>MP</th>\n",
       "      <th>FG</th>\n",
       "      <th>...</th>\n",
       "      <th>TRB%</th>\n",
       "      <th>AST%</th>\n",
       "      <th>STL%</th>\n",
       "      <th>BLK%</th>\n",
       "      <th>TOV%</th>\n",
       "      <th>USG%</th>\n",
       "      <th>ORtg</th>\n",
       "      <th>DRtg</th>\n",
       "      <th>Salary</th>\n",
       "      <th>FD_Pts</th>\n",
       "    </tr>\n",
       "  </thead>\n",
       "  <tbody>\n",
       "    <tr>\n",
       "      <th>4612</th>\n",
       "      <td>Vince Edwards</td>\n",
       "      <td>214</td>\n",
       "      <td>2018-11-15</td>\n",
       "      <td>0</td>\n",
       "      <td>1.0</td>\n",
       "      <td>Houston Rockets</td>\n",
       "      <td>Golden State Warriors</td>\n",
       "      <td>0</td>\n",
       "      <td>3.716667</td>\n",
       "      <td>1</td>\n",
       "      <td>...</td>\n",
       "      <td>15.2</td>\n",
       "      <td>0.0</td>\n",
       "      <td>0.0</td>\n",
       "      <td>0.0</td>\n",
       "      <td>0.0</td>\n",
       "      <td>25.0</td>\n",
       "      <td>160.0</td>\n",
       "      <td>110.0</td>\n",
       "      <td>NaN</td>\n",
       "      <td>NaN</td>\n",
       "    </tr>\n",
       "    <tr>\n",
       "      <th>14929</th>\n",
       "      <td>Vince Edwards</td>\n",
       "      <td>699</td>\n",
       "      <td>2019-01-21</td>\n",
       "      <td>0</td>\n",
       "      <td>0.0</td>\n",
       "      <td>Houston Rockets</td>\n",
       "      <td>Philadelphia 76ers</td>\n",
       "      <td>0</td>\n",
       "      <td>12.000000</td>\n",
       "      <td>0</td>\n",
       "      <td>...</td>\n",
       "      <td>4.3</td>\n",
       "      <td>0.0</td>\n",
       "      <td>0.0</td>\n",
       "      <td>0.0</td>\n",
       "      <td>0.0</td>\n",
       "      <td>7.3</td>\n",
       "      <td>0.0</td>\n",
       "      <td>125.0</td>\n",
       "      <td>NaN</td>\n",
       "      <td>NaN</td>\n",
       "    </tr>\n",
       "    <tr>\n",
       "      <th>19422</th>\n",
       "      <td>Tahjere McCall</td>\n",
       "      <td>913</td>\n",
       "      <td>2019-02-27</td>\n",
       "      <td>0</td>\n",
       "      <td>1.0</td>\n",
       "      <td>Brooklyn Nets</td>\n",
       "      <td>Washington Wizards</td>\n",
       "      <td>0</td>\n",
       "      <td>7.966667</td>\n",
       "      <td>2</td>\n",
       "      <td>...</td>\n",
       "      <td>6.1</td>\n",
       "      <td>0.0</td>\n",
       "      <td>0.0</td>\n",
       "      <td>0.0</td>\n",
       "      <td>0.0</td>\n",
       "      <td>17.5</td>\n",
       "      <td>108.0</td>\n",
       "      <td>120.0</td>\n",
       "      <td>NaN</td>\n",
       "      <td>NaN</td>\n",
       "    </tr>\n",
       "  </tbody>\n",
       "</table>\n",
       "<p>3 rows × 44 columns</p>\n",
       "</div>"
      ],
      "text/plain": [
       "               Player  Game_No       Date Pos  is_Home             Team  \\\n",
       "4612    Vince Edwards      214 2018-11-15   0      1.0  Houston Rockets   \n",
       "14929   Vince Edwards      699 2019-01-21   0      0.0  Houston Rockets   \n",
       "19422  Tahjere McCall      913 2019-02-27   0      1.0    Brooklyn Nets   \n",
       "\n",
       "                    Opponent  GS         MP  FG   ...    TRB%  AST%  STL%  \\\n",
       "4612   Golden State Warriors   0   3.716667   1   ...    15.2   0.0   0.0   \n",
       "14929     Philadelphia 76ers   0  12.000000   0   ...     4.3   0.0   0.0   \n",
       "19422     Washington Wizards   0   7.966667   2   ...     6.1   0.0   0.0   \n",
       "\n",
       "       BLK%  TOV%  USG%   ORtg   DRtg  Salary  FD_Pts  \n",
       "4612    0.0   0.0  25.0  160.0  110.0     NaN     NaN  \n",
       "14929   0.0   0.0   7.3    0.0  125.0     NaN     NaN  \n",
       "19422   0.0   0.0  17.5  108.0  120.0     NaN     NaN  \n",
       "\n",
       "[3 rows x 44 columns]"
      ]
     },
     "execution_count": 22,
     "metadata": {},
     "output_type": "execute_result"
    }
   ],
   "source": [
    "# Find how many records that did not get imputed.\n",
    "# In 2019, only 3\n",
    "player_merge[player_merge.Pos == 0]"
   ]
  },
  {
   "cell_type": "code",
   "execution_count": 23,
   "metadata": {
    "ExecuteTime": {
     "end_time": "2019-08-21T20:10:50.846123Z",
     "start_time": "2019-08-21T20:10:50.834345Z"
    }
   },
   "outputs": [
    {
     "name": "stdout",
     "output_type": "stream",
     "text": [
      "(26098, 44)\n"
     ]
    }
   ],
   "source": [
    "# Drop the records that did not get imputed.\n",
    "player_merge = player_merge[player_merge.Pos != 0]\n",
    "print(player_merge.shape)"
   ]
  },
  {
   "cell_type": "markdown",
   "metadata": {},
   "source": [
    "### Impute Salaries"
   ]
  },
  {
   "cell_type": "code",
   "execution_count": 24,
   "metadata": {
    "ExecuteTime": {
     "end_time": "2019-08-21T20:11:49.788317Z",
     "start_time": "2019-08-21T20:11:49.782100Z"
    }
   },
   "outputs": [
    {
     "data": {
      "text/plain": [
       "(123, 44)"
      ]
     },
     "execution_count": 24,
     "metadata": {},
     "output_type": "execute_result"
    }
   ],
   "source": [
    "player_merge[player_merge.Salary.isna()].shape"
   ]
  },
  {
   "cell_type": "code",
   "execution_count": 25,
   "metadata": {
    "ExecuteTime": {
     "end_time": "2019-08-21T20:11:50.802179Z",
     "start_time": "2019-08-21T20:11:50.796455Z"
    }
   },
   "outputs": [
    {
     "name": "stdout",
     "output_type": "stream",
     "text": [
      "Number of players: 528\n"
     ]
    }
   ],
   "source": [
    "players = list(set(player_merge.Player.values))\n",
    "print(f'Number of players: {len(players)}')"
   ]
  },
  {
   "cell_type": "code",
   "execution_count": 26,
   "metadata": {
    "ExecuteTime": {
     "end_time": "2019-08-21T20:12:57.758448Z",
     "start_time": "2019-08-21T20:12:57.754625Z"
    }
   },
   "outputs": [
    {
     "name": "stdout",
     "output_type": "stream",
     "text": [
      "Minimum salary @ Fanduel: 3500.0\n"
     ]
    }
   ],
   "source": [
    "print(f'Minimum salary @ Fanduel: {player_merge.Salary.min()}')"
   ]
  },
  {
   "cell_type": "markdown",
   "metadata": {},
   "source": [
    "In the Fanduel dataset, some of players contain 'nan' salaries.  \n",
    "Since right salary information is unknown, in this case, we rely on the 'neighbors'.  \n",
    "    \n",
    "**Impute Approach**  \n",
    "Below are the steps to impute the position:  \n",
    "1) Fill the 'nan' records with 0.  \n",
    "2) If 0 appear in the start or end of a player's salary list, use function 'fix_end' to fix.  \n",
    "3) If 0 appear in the middle of a player's salary list, use function 'impute_zero' to fix."
   ]
  },
  {
   "cell_type": "code",
   "execution_count": 27,
   "metadata": {
    "ExecuteTime": {
     "end_time": "2019-08-21T20:19:14.515406Z",
     "start_time": "2019-08-21T20:19:14.507541Z"
    }
   },
   "outputs": [
    {
     "name": "stdout",
     "output_type": "stream",
     "text": [
      "[0, 0, 1, 0, 0]\n",
      "[1, 1, 1, 0, 0]\n",
      "[0, 0, 1, 1, 1]\n",
      "[1, 1, 1, 1, 1]\n"
     ]
    }
   ],
   "source": [
    "def fix_end(l):\n",
    "    '''\n",
    "    Impute the zero's on the ends of a player's salary record.\n",
    "    '''\n",
    "    for i in range(1, len(l)):\n",
    "        if l[i] != 0:\n",
    "            for j in range(i):\n",
    "                l[j] = l[i]\n",
    "            return l\n",
    "\n",
    "# Example\n",
    "a = [0,0,1,0,0]\n",
    "print(a)\n",
    "a = fix_end(a)\n",
    "print(a)\n",
    "a.reverse()\n",
    "print(a)\n",
    "a = fix_end(a)\n",
    "a.reverse()\n",
    "print(a)"
   ]
  },
  {
   "cell_type": "code",
   "execution_count": 28,
   "metadata": {
    "ExecuteTime": {
     "end_time": "2019-08-21T20:19:16.272105Z",
     "start_time": "2019-08-21T20:19:16.261581Z"
    }
   },
   "outputs": [
    {
     "data": {
      "text/plain": [
       "[100,\n",
       " 100.0,\n",
       " 100.0,\n",
       " 100.0,\n",
       " 100.0,\n",
       " 100,\n",
       " 100.0,\n",
       " 100.0,\n",
       " 100.0,\n",
       " 100,\n",
       " 100.0,\n",
       " 100.0,\n",
       " 200,\n",
       " 400.0,\n",
       " 700]"
      ]
     },
     "execution_count": 28,
     "metadata": {},
     "output_type": "execute_result"
    }
   ],
   "source": [
    "def impute_zero(l):\n",
    "    \"\"\"\n",
    "    Impute the zero's in the middle of a player's salary record.\n",
    "    \"\"\"\n",
    "    # find consecutive zeros\n",
    "    max_zero = l.count(0)\n",
    "    consec_list = [max_zero - j for j in range(max_zero)]\n",
    "    # impute\n",
    "    for num in consec_list:\n",
    "        for i in range(1, len(l) - num + 1):\n",
    "            if l[i:i+num] == [0] * num:\n",
    "                for k in range(i, i + num):\n",
    "                    # Get the mean\n",
    "                    l[k] = (l[i-1] + l[i+num]) / 2\n",
    "    return l\n",
    "\n",
    "# Example\n",
    "l = [100, 0, 0, 0, 0, 100, 0, 0, 0, 100, 0, 0, 200, 0, 700]\n",
    "l = impute_zero(l)\n",
    "[s - 50 if s % 100 != 0 else s for s in l]"
   ]
  },
  {
   "cell_type": "code",
   "execution_count": 36,
   "metadata": {
    "ExecuteTime": {
     "end_time": "2019-08-21T21:55:03.786193Z",
     "start_time": "2019-08-21T21:55:01.349624Z"
    }
   },
   "outputs": [],
   "source": [
    "def impute_player_salary(p):\n",
    "    \"\"\"\n",
    "    Impute the missing salaries.\n",
    "    \"\"\"\n",
    "    p_df = player_merge[player_merge.Player == p].fillna(0)\n",
    "    salaries = list(p_df.Salary.values)\n",
    "    \n",
    "    # Case 1: if a player has zero salary records\n",
    "    if set(salaries) == 0: \n",
    "        p_df['Salary'] = 3500 # Use Fanduel minimum\n",
    "        return p_df\n",
    "    \n",
    "    # Case 2: if a player has no zero records\n",
    "    if 0 not in salaries:\n",
    "        return p_df\n",
    "    \n",
    "    # Case 3: Zero's only on ends\n",
    "    # Fix Front\n",
    "    if salaries[0] == 0:\n",
    "        salaries = fix_end(salaries)\n",
    "    # Fix Backend\n",
    "    if salaries[-1] == 0:\n",
    "        salaries.reverse()\n",
    "        salaries = fix_end(salaries)\n",
    "        salaries.reverse()\n",
    "    # Return if no more zero\n",
    "    if 0 not in salaries:\n",
    "        p_df['Salary'] = salaries\n",
    "        return p_df\n",
    "    \n",
    "    # Case 4: Zero's in the middle\n",
    "    salaries = impute_zero(salaries)\n",
    "    # Fanduel salary always ends with 2 zeros\n",
    "    p_df['Salary'] = [s - 50 if s % 100 != 0 else s for s in salaries]\n",
    "    return p_df\n",
    "        \n",
    "player_merge = pd.concat([impute_player_salary(p) for p in players]) \\\n",
    "                 .sort_index()"
   ]
  },
  {
   "cell_type": "code",
   "execution_count": 30,
   "metadata": {
    "ExecuteTime": {
     "end_time": "2019-08-21T20:22:05.636140Z",
     "start_time": "2019-08-21T20:22:05.598223Z"
    }
   },
   "outputs": [
    {
     "data": {
      "text/html": [
       "<div>\n",
       "<style scoped>\n",
       "    .dataframe tbody tr th:only-of-type {\n",
       "        vertical-align: middle;\n",
       "    }\n",
       "\n",
       "    .dataframe tbody tr th {\n",
       "        vertical-align: top;\n",
       "    }\n",
       "\n",
       "    .dataframe thead th {\n",
       "        text-align: right;\n",
       "    }\n",
       "</style>\n",
       "<table border=\"1\" class=\"dataframe\">\n",
       "  <thead>\n",
       "    <tr style=\"text-align: right;\">\n",
       "      <th></th>\n",
       "      <th>Player</th>\n",
       "      <th>Game_No</th>\n",
       "      <th>Date</th>\n",
       "      <th>Pos</th>\n",
       "      <th>is_Home</th>\n",
       "      <th>Team</th>\n",
       "      <th>Opponent</th>\n",
       "      <th>GS</th>\n",
       "      <th>MP</th>\n",
       "      <th>FG</th>\n",
       "      <th>...</th>\n",
       "      <th>TRB%</th>\n",
       "      <th>AST%</th>\n",
       "      <th>STL%</th>\n",
       "      <th>BLK%</th>\n",
       "      <th>TOV%</th>\n",
       "      <th>USG%</th>\n",
       "      <th>ORtg</th>\n",
       "      <th>DRtg</th>\n",
       "      <th>Salary</th>\n",
       "      <th>FD_Pts</th>\n",
       "    </tr>\n",
       "  </thead>\n",
       "  <tbody>\n",
       "  </tbody>\n",
       "</table>\n",
       "<p>0 rows × 44 columns</p>\n",
       "</div>"
      ],
      "text/plain": [
       "Empty DataFrame\n",
       "Columns: [Player, Game_No, Date, Pos, is_Home, Team, Opponent, GS, MP, FG, FGA, FG%, 3P, 3PA, 3P%, FT, FTA, FT%, ORB, DRB, TRB, AST, STL, BLK, TOV, PF, PTS, +/-, TS%, eFG%, 3PAr, FTr, ORB%, DRB%, TRB%, AST%, STL%, BLK%, TOV%, USG%, ORtg, DRtg, Salary, FD_Pts]\n",
       "Index: []\n",
       "\n",
       "[0 rows x 44 columns]"
      ]
     },
     "execution_count": 30,
     "metadata": {},
     "output_type": "execute_result"
    }
   ],
   "source": [
    "# Check\n",
    "player_merge[player_merge.Salary == 0]"
   ]
  },
  {
   "cell_type": "markdown",
   "metadata": {},
   "source": [
    "## Stage 4: Validation"
   ]
  },
  {
   "cell_type": "markdown",
   "metadata": {},
   "source": [
    "### Validate the 'Fanduel points' of the Fanduel dataset"
   ]
  },
  {
   "cell_type": "markdown",
   "metadata": {},
   "source": [
    "Below is the scoring formula for Fanduel DFS game:  \n",
    "- 3-pt Field Goal = 3pts\n",
    "- 2-pt Field Goal = 2pts\n",
    "- Free Throw = 1pt\n",
    "- Rebound = 1.2pts\n",
    "- Assist = 1.5pts\n",
    "- Block = 3pts\n",
    "- Steal = 3pts\n",
    "- Turnover = -1pt"
   ]
  },
  {
   "cell_type": "code",
   "execution_count": 31,
   "metadata": {
    "ExecuteTime": {
     "end_time": "2019-08-21T20:25:30.273600Z",
     "start_time": "2019-08-21T20:25:30.233646Z"
    }
   },
   "outputs": [],
   "source": [
    "player_merge['FD_Pts_val'] = player_merge['3P'] * 3 + \\\n",
    "                             (player_merge['FG'] - player_merge['3P']) * 2 + \\\n",
    "                             player_merge['FT'] + \\\n",
    "                             player_merge['TRB'] * 1.2 + \\\n",
    "                             player_merge['AST'] * 1.5 + \\\n",
    "                             player_merge['STL'] * 3 + \\\n",
    "                             player_merge['BLK'] * 3 - \\\n",
    "                             player_merge['TOV'] * 1"
   ]
  },
  {
   "cell_type": "code",
   "execution_count": 32,
   "metadata": {
    "ExecuteTime": {
     "end_time": "2019-08-21T20:26:47.053923Z",
     "start_time": "2019-08-21T20:26:47.025510Z"
    }
   },
   "outputs": [
    {
     "name": "stdout",
     "output_type": "stream",
     "text": [
      "Correct%: 97.15687025825733%\n"
     ]
    }
   ],
   "source": [
    "def fd_pts_validate(df):\n",
    "    df_non_na = df[~df.Pos.isna()]\n",
    "    incorrect = df_non_na[~np.isclose(df_non_na.FD_Pts, \n",
    "                                      df_non_na.FD_Pts_val)]\n",
    "    result = 1 - incorrect.shape[0] / len(df)\n",
    "    print(f'Correct%: {result * 100}%')\n",
    "\n",
    "fd_pts_validate(player_merge)"
   ]
  },
  {
   "cell_type": "markdown",
   "metadata": {},
   "source": [
    "Since we don't get 100% correct in validation, in future analysis and modeling, column 'FD_Pts_val' is preferred."
   ]
  },
  {
   "cell_type": "code",
   "execution_count": 33,
   "metadata": {
    "ExecuteTime": {
     "end_time": "2019-08-21T20:31:23.156456Z",
     "start_time": "2019-08-21T20:31:23.126564Z"
    }
   },
   "outputs": [
    {
     "data": {
      "text/plain": [
       "(0, 44)"
      ]
     },
     "execution_count": 33,
     "metadata": {},
     "output_type": "execute_result"
    }
   ],
   "source": [
    "# Drop the original fanduel pts column\n",
    "player_merge = player_merge.drop('FD_Pts', axis=1) \\\n",
    "                           .rename(columns = {'FD_Pts_val': 'FD_Pts'})\n",
    "# Check\n",
    "player_merge[player_merge.FD_Pts.isna()].shape"
   ]
  },
  {
   "cell_type": "code",
   "execution_count": 38,
   "metadata": {
    "ExecuteTime": {
     "end_time": "2019-08-21T21:55:17.735512Z",
     "start_time": "2019-08-21T21:55:16.739232Z"
    }
   },
   "outputs": [],
   "source": [
    "# Save data\n",
    "player_merge.to_csv(f'data/player_fd_{year}.csv', index=False)"
   ]
  }
 ],
 "metadata": {
  "kernelspec": {
   "display_name": "Python 3",
   "language": "python",
   "name": "python3"
  },
  "language_info": {
   "codemirror_mode": {
    "name": "ipython",
    "version": 3
   },
   "file_extension": ".py",
   "mimetype": "text/x-python",
   "name": "python",
   "nbconvert_exporter": "python",
   "pygments_lexer": "ipython3",
   "version": "3.6.7"
  }
 },
 "nbformat": 4,
 "nbformat_minor": 2
}
